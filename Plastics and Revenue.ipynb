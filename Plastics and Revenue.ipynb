{
 "cells": [
  {
   "cell_type": "code",
   "execution_count": 201,
   "metadata": {},
   "outputs": [],
   "source": [
    "import pandas as pd\n",
    "import numpy as np\n",
    "import matplotlib.pyplot  as plt\n",
    "from sklearn.linear_model import LinearRegression,Ridge,ElasticNet"
   ]
  },
  {
   "cell_type": "code",
   "execution_count": 207,
   "metadata": {},
   "outputs": [
    {
     "data": {
      "text/html": [
       "<div>\n",
       "<style scoped>\n",
       "    .dataframe tbody tr th:only-of-type {\n",
       "        vertical-align: middle;\n",
       "    }\n",
       "\n",
       "    .dataframe tbody tr th {\n",
       "        vertical-align: top;\n",
       "    }\n",
       "\n",
       "    .dataframe thead th {\n",
       "        text-align: right;\n",
       "    }\n",
       "</style>\n",
       "<table border=\"1\" class=\"dataframe\">\n",
       "  <thead>\n",
       "    <tr style=\"text-align: right;\">\n",
       "      <th></th>\n",
       "      <th>iso3c</th>\n",
       "      <th>region_id</th>\n",
       "      <th>country_name</th>\n",
       "      <th>income_id</th>\n",
       "      <th>gdp</th>\n",
       "      <th>composition_food_organic_waste_percent</th>\n",
       "      <th>composition_glass_percent</th>\n",
       "      <th>composition_metal_percent</th>\n",
       "      <th>composition_other_percent</th>\n",
       "      <th>composition_paper_cardboard_percent</th>\n",
       "      <th>...</th>\n",
       "      <th>waste_treatment_controlled_landfill_percent</th>\n",
       "      <th>waste_treatment_incineration_percent</th>\n",
       "      <th>waste_treatment_landfill_unspecified_percent</th>\n",
       "      <th>waste_treatment_open_dump_percent</th>\n",
       "      <th>waste_treatment_other_percent</th>\n",
       "      <th>waste_treatment_recycling_percent</th>\n",
       "      <th>waste_treatment_sanitary_landfill_landfill_gas_system_percent</th>\n",
       "      <th>waste_treatment_unaccounted_for_percent</th>\n",
       "      <th>waste_treatment_waterways_marine_percent</th>\n",
       "      <th>where_where_is_this_data_measured</th>\n",
       "    </tr>\n",
       "  </thead>\n",
       "  <tbody>\n",
       "    <tr>\n",
       "      <th>0</th>\n",
       "      <td>ABW</td>\n",
       "      <td>LCN</td>\n",
       "      <td>Aruba</td>\n",
       "      <td>HIC</td>\n",
       "      <td>NaN</td>\n",
       "      <td>NaN</td>\n",
       "      <td>NaN</td>\n",
       "      <td>NaN</td>\n",
       "      <td>NaN</td>\n",
       "      <td>NaN</td>\n",
       "      <td>...</td>\n",
       "      <td>NaN</td>\n",
       "      <td>NaN</td>\n",
       "      <td>NaN</td>\n",
       "      <td>NaN</td>\n",
       "      <td>NaN</td>\n",
       "      <td>11.0</td>\n",
       "      <td>NaN</td>\n",
       "      <td>89.0</td>\n",
       "      <td>NaN</td>\n",
       "      <td>NaN</td>\n",
       "    </tr>\n",
       "    <tr>\n",
       "      <th>1</th>\n",
       "      <td>AFG</td>\n",
       "      <td>SAS</td>\n",
       "      <td>Afghanistan</td>\n",
       "      <td>LIC</td>\n",
       "      <td>2.141361e+10</td>\n",
       "      <td>NaN</td>\n",
       "      <td>NaN</td>\n",
       "      <td>NaN</td>\n",
       "      <td>NaN</td>\n",
       "      <td>NaN</td>\n",
       "      <td>...</td>\n",
       "      <td>NaN</td>\n",
       "      <td>NaN</td>\n",
       "      <td>NaN</td>\n",
       "      <td>NaN</td>\n",
       "      <td>NaN</td>\n",
       "      <td>NaN</td>\n",
       "      <td>NaN</td>\n",
       "      <td>NaN</td>\n",
       "      <td>NaN</td>\n",
       "      <td>Other</td>\n",
       "    </tr>\n",
       "    <tr>\n",
       "      <th>2</th>\n",
       "      <td>AGO</td>\n",
       "      <td>SSF</td>\n",
       "      <td>Angola</td>\n",
       "      <td>LMC</td>\n",
       "      <td>1.030000e+11</td>\n",
       "      <td>51.800000</td>\n",
       "      <td>6.700000</td>\n",
       "      <td>4.400000</td>\n",
       "      <td>11.500000</td>\n",
       "      <td>11.900000</td>\n",
       "      <td>...</td>\n",
       "      <td>NaN</td>\n",
       "      <td>NaN</td>\n",
       "      <td>NaN</td>\n",
       "      <td>NaN</td>\n",
       "      <td>NaN</td>\n",
       "      <td>NaN</td>\n",
       "      <td>NaN</td>\n",
       "      <td>NaN</td>\n",
       "      <td>NaN</td>\n",
       "      <td>NaN</td>\n",
       "    </tr>\n",
       "    <tr>\n",
       "      <th>3</th>\n",
       "      <td>ALB</td>\n",
       "      <td>ECS</td>\n",
       "      <td>Albania</td>\n",
       "      <td>UMC</td>\n",
       "      <td>1.347108e+10</td>\n",
       "      <td>51.400000</td>\n",
       "      <td>4.500000</td>\n",
       "      <td>4.800000</td>\n",
       "      <td>15.210000</td>\n",
       "      <td>9.900000</td>\n",
       "      <td>...</td>\n",
       "      <td>NaN</td>\n",
       "      <td>NaN</td>\n",
       "      <td>NaN</td>\n",
       "      <td>NaN</td>\n",
       "      <td>NaN</td>\n",
       "      <td>NaN</td>\n",
       "      <td>NaN</td>\n",
       "      <td>NaN</td>\n",
       "      <td>NaN</td>\n",
       "      <td>Some disposal sites</td>\n",
       "    </tr>\n",
       "    <tr>\n",
       "      <th>4</th>\n",
       "      <td>AND</td>\n",
       "      <td>ECS</td>\n",
       "      <td>Andorra</td>\n",
       "      <td>HIC</td>\n",
       "      <td>3.319880e+09</td>\n",
       "      <td>31.200000</td>\n",
       "      <td>8.200000</td>\n",
       "      <td>2.600000</td>\n",
       "      <td>11.600000</td>\n",
       "      <td>35.100000</td>\n",
       "      <td>...</td>\n",
       "      <td>NaN</td>\n",
       "      <td>52.1</td>\n",
       "      <td>NaN</td>\n",
       "      <td>NaN</td>\n",
       "      <td>NaN</td>\n",
       "      <td>NaN</td>\n",
       "      <td>NaN</td>\n",
       "      <td>47.9</td>\n",
       "      <td>NaN</td>\n",
       "      <td>NaN</td>\n",
       "    </tr>\n",
       "    <tr>\n",
       "      <th>...</th>\n",
       "      <td>...</td>\n",
       "      <td>...</td>\n",
       "      <td>...</td>\n",
       "      <td>...</td>\n",
       "      <td>...</td>\n",
       "      <td>...</td>\n",
       "      <td>...</td>\n",
       "      <td>...</td>\n",
       "      <td>...</td>\n",
       "      <td>...</td>\n",
       "      <td>...</td>\n",
       "      <td>...</td>\n",
       "      <td>...</td>\n",
       "      <td>...</td>\n",
       "      <td>...</td>\n",
       "      <td>...</td>\n",
       "      <td>...</td>\n",
       "      <td>...</td>\n",
       "      <td>...</td>\n",
       "      <td>...</td>\n",
       "      <td>...</td>\n",
       "    </tr>\n",
       "    <tr>\n",
       "      <th>212</th>\n",
       "      <td>XKX</td>\n",
       "      <td>ECS</td>\n",
       "      <td>Kosovo</td>\n",
       "      <td>LMC</td>\n",
       "      <td>7.129272e+09</td>\n",
       "      <td>42.000000</td>\n",
       "      <td>6.000000</td>\n",
       "      <td>6.000000</td>\n",
       "      <td>20.000000</td>\n",
       "      <td>8.000000</td>\n",
       "      <td>...</td>\n",
       "      <td>66.43</td>\n",
       "      <td>NaN</td>\n",
       "      <td>NaN</td>\n",
       "      <td>33.57</td>\n",
       "      <td>NaN</td>\n",
       "      <td>NaN</td>\n",
       "      <td>NaN</td>\n",
       "      <td>NaN</td>\n",
       "      <td>NaN</td>\n",
       "      <td>NaN</td>\n",
       "    </tr>\n",
       "    <tr>\n",
       "      <th>213</th>\n",
       "      <td>YEM</td>\n",
       "      <td>MEA</td>\n",
       "      <td>Yemen, Rep.</td>\n",
       "      <td>LIC</td>\n",
       "      <td>1.192703e+10</td>\n",
       "      <td>65.000000</td>\n",
       "      <td>1.000000</td>\n",
       "      <td>6.000000</td>\n",
       "      <td>6.000000</td>\n",
       "      <td>7.000000</td>\n",
       "      <td>...</td>\n",
       "      <td>12.00</td>\n",
       "      <td>NaN</td>\n",
       "      <td>NaN</td>\n",
       "      <td>25.00</td>\n",
       "      <td>NaN</td>\n",
       "      <td>8.0</td>\n",
       "      <td>NaN</td>\n",
       "      <td>47.0</td>\n",
       "      <td>8.0</td>\n",
       "      <td>Other</td>\n",
       "    </tr>\n",
       "    <tr>\n",
       "      <th>214</th>\n",
       "      <td>ZAF</td>\n",
       "      <td>SSF</td>\n",
       "      <td>South Africa</td>\n",
       "      <td>UMC</td>\n",
       "      <td>4.210000e+11</td>\n",
       "      <td>16.381655</td>\n",
       "      <td>5.200216</td>\n",
       "      <td>16.910461</td>\n",
       "      <td>45.020646</td>\n",
       "      <td>9.396918</td>\n",
       "      <td>...</td>\n",
       "      <td>72.00</td>\n",
       "      <td>NaN</td>\n",
       "      <td>NaN</td>\n",
       "      <td>NaN</td>\n",
       "      <td>NaN</td>\n",
       "      <td>28.0</td>\n",
       "      <td>NaN</td>\n",
       "      <td>NaN</td>\n",
       "      <td>NaN</td>\n",
       "      <td>NaN</td>\n",
       "    </tr>\n",
       "    <tr>\n",
       "      <th>215</th>\n",
       "      <td>ZMB</td>\n",
       "      <td>SSF</td>\n",
       "      <td>Zambia</td>\n",
       "      <td>LMC</td>\n",
       "      <td>2.703717e+10</td>\n",
       "      <td>NaN</td>\n",
       "      <td>NaN</td>\n",
       "      <td>NaN</td>\n",
       "      <td>NaN</td>\n",
       "      <td>NaN</td>\n",
       "      <td>...</td>\n",
       "      <td>NaN</td>\n",
       "      <td>NaN</td>\n",
       "      <td>NaN</td>\n",
       "      <td>NaN</td>\n",
       "      <td>NaN</td>\n",
       "      <td>NaN</td>\n",
       "      <td>NaN</td>\n",
       "      <td>NaN</td>\n",
       "      <td>NaN</td>\n",
       "      <td>NaN</td>\n",
       "    </tr>\n",
       "    <tr>\n",
       "      <th>216</th>\n",
       "      <td>ZWE</td>\n",
       "      <td>SSF</td>\n",
       "      <td>Zimbabwe</td>\n",
       "      <td>LIC</td>\n",
       "      <td>1.481899e+10</td>\n",
       "      <td>36.000000</td>\n",
       "      <td>5.000000</td>\n",
       "      <td>6.000000</td>\n",
       "      <td>3.000000</td>\n",
       "      <td>27.000000</td>\n",
       "      <td>...</td>\n",
       "      <td>NaN</td>\n",
       "      <td>NaN</td>\n",
       "      <td>NaN</td>\n",
       "      <td>NaN</td>\n",
       "      <td>NaN</td>\n",
       "      <td>16.0</td>\n",
       "      <td>NaN</td>\n",
       "      <td>84.0</td>\n",
       "      <td>NaN</td>\n",
       "      <td>NaN</td>\n",
       "    </tr>\n",
       "  </tbody>\n",
       "</table>\n",
       "<p>217 rows × 51 columns</p>\n",
       "</div>"
      ],
      "text/plain": [
       "    iso3c region_id  country_name income_id           gdp  \\\n",
       "0     ABW       LCN         Aruba       HIC           NaN   \n",
       "1     AFG       SAS   Afghanistan       LIC  2.141361e+10   \n",
       "2     AGO       SSF        Angola       LMC  1.030000e+11   \n",
       "3     ALB       ECS       Albania       UMC  1.347108e+10   \n",
       "4     AND       ECS       Andorra       HIC  3.319880e+09   \n",
       "..    ...       ...           ...       ...           ...   \n",
       "212   XKX       ECS        Kosovo       LMC  7.129272e+09   \n",
       "213   YEM       MEA   Yemen, Rep.       LIC  1.192703e+10   \n",
       "214   ZAF       SSF  South Africa       UMC  4.210000e+11   \n",
       "215   ZMB       SSF        Zambia       LMC  2.703717e+10   \n",
       "216   ZWE       SSF      Zimbabwe       LIC  1.481899e+10   \n",
       "\n",
       "     composition_food_organic_waste_percent  composition_glass_percent  \\\n",
       "0                                       NaN                        NaN   \n",
       "1                                       NaN                        NaN   \n",
       "2                                 51.800000                   6.700000   \n",
       "3                                 51.400000                   4.500000   \n",
       "4                                 31.200000                   8.200000   \n",
       "..                                      ...                        ...   \n",
       "212                               42.000000                   6.000000   \n",
       "213                               65.000000                   1.000000   \n",
       "214                               16.381655                   5.200216   \n",
       "215                                     NaN                        NaN   \n",
       "216                               36.000000                   5.000000   \n",
       "\n",
       "     composition_metal_percent  composition_other_percent  \\\n",
       "0                          NaN                        NaN   \n",
       "1                          NaN                        NaN   \n",
       "2                     4.400000                  11.500000   \n",
       "3                     4.800000                  15.210000   \n",
       "4                     2.600000                  11.600000   \n",
       "..                         ...                        ...   \n",
       "212                   6.000000                  20.000000   \n",
       "213                   6.000000                   6.000000   \n",
       "214                  16.910461                  45.020646   \n",
       "215                        NaN                        NaN   \n",
       "216                   6.000000                   3.000000   \n",
       "\n",
       "     composition_paper_cardboard_percent  ...  \\\n",
       "0                                    NaN  ...   \n",
       "1                                    NaN  ...   \n",
       "2                              11.900000  ...   \n",
       "3                               9.900000  ...   \n",
       "4                              35.100000  ...   \n",
       "..                                   ...  ...   \n",
       "212                             8.000000  ...   \n",
       "213                             7.000000  ...   \n",
       "214                             9.396918  ...   \n",
       "215                                  NaN  ...   \n",
       "216                            27.000000  ...   \n",
       "\n",
       "     waste_treatment_controlled_landfill_percent  \\\n",
       "0                                            NaN   \n",
       "1                                            NaN   \n",
       "2                                            NaN   \n",
       "3                                            NaN   \n",
       "4                                            NaN   \n",
       "..                                           ...   \n",
       "212                                        66.43   \n",
       "213                                        12.00   \n",
       "214                                        72.00   \n",
       "215                                          NaN   \n",
       "216                                          NaN   \n",
       "\n",
       "     waste_treatment_incineration_percent  \\\n",
       "0                                     NaN   \n",
       "1                                     NaN   \n",
       "2                                     NaN   \n",
       "3                                     NaN   \n",
       "4                                    52.1   \n",
       "..                                    ...   \n",
       "212                                   NaN   \n",
       "213                                   NaN   \n",
       "214                                   NaN   \n",
       "215                                   NaN   \n",
       "216                                   NaN   \n",
       "\n",
       "     waste_treatment_landfill_unspecified_percent  \\\n",
       "0                                             NaN   \n",
       "1                                             NaN   \n",
       "2                                             NaN   \n",
       "3                                             NaN   \n",
       "4                                             NaN   \n",
       "..                                            ...   \n",
       "212                                           NaN   \n",
       "213                                           NaN   \n",
       "214                                           NaN   \n",
       "215                                           NaN   \n",
       "216                                           NaN   \n",
       "\n",
       "     waste_treatment_open_dump_percent waste_treatment_other_percent  \\\n",
       "0                                  NaN                           NaN   \n",
       "1                                  NaN                           NaN   \n",
       "2                                  NaN                           NaN   \n",
       "3                                  NaN                           NaN   \n",
       "4                                  NaN                           NaN   \n",
       "..                                 ...                           ...   \n",
       "212                              33.57                           NaN   \n",
       "213                              25.00                           NaN   \n",
       "214                                NaN                           NaN   \n",
       "215                                NaN                           NaN   \n",
       "216                                NaN                           NaN   \n",
       "\n",
       "    waste_treatment_recycling_percent  \\\n",
       "0                                11.0   \n",
       "1                                 NaN   \n",
       "2                                 NaN   \n",
       "3                                 NaN   \n",
       "4                                 NaN   \n",
       "..                                ...   \n",
       "212                               NaN   \n",
       "213                               8.0   \n",
       "214                              28.0   \n",
       "215                               NaN   \n",
       "216                              16.0   \n",
       "\n",
       "    waste_treatment_sanitary_landfill_landfill_gas_system_percent  \\\n",
       "0                                                  NaN              \n",
       "1                                                  NaN              \n",
       "2                                                  NaN              \n",
       "3                                                  NaN              \n",
       "4                                                  NaN              \n",
       "..                                                 ...              \n",
       "212                                                NaN              \n",
       "213                                                NaN              \n",
       "214                                                NaN              \n",
       "215                                                NaN              \n",
       "216                                                NaN              \n",
       "\n",
       "    waste_treatment_unaccounted_for_percent  \\\n",
       "0                                      89.0   \n",
       "1                                       NaN   \n",
       "2                                       NaN   \n",
       "3                                       NaN   \n",
       "4                                      47.9   \n",
       "..                                      ...   \n",
       "212                                     NaN   \n",
       "213                                    47.0   \n",
       "214                                     NaN   \n",
       "215                                     NaN   \n",
       "216                                    84.0   \n",
       "\n",
       "    waste_treatment_waterways_marine_percent  \\\n",
       "0                                        NaN   \n",
       "1                                        NaN   \n",
       "2                                        NaN   \n",
       "3                                        NaN   \n",
       "4                                        NaN   \n",
       "..                                       ...   \n",
       "212                                      NaN   \n",
       "213                                      8.0   \n",
       "214                                      NaN   \n",
       "215                                      NaN   \n",
       "216                                      NaN   \n",
       "\n",
       "     where_where_is_this_data_measured  \n",
       "0                                  NaN  \n",
       "1                                Other  \n",
       "2                                  NaN  \n",
       "3                  Some disposal sites  \n",
       "4                                  NaN  \n",
       "..                                 ...  \n",
       "212                                NaN  \n",
       "213                              Other  \n",
       "214                                NaN  \n",
       "215                                NaN  \n",
       "216                                NaN  \n",
       "\n",
       "[217 rows x 51 columns]"
      ]
     },
     "execution_count": 207,
     "metadata": {},
     "output_type": "execute_result"
    }
   ],
   "source": [
    "world=pd.read_csv(\"C:\\\\Users\\\\swast\\\\Downloads\\\\country_level_data_0.csv\")\n",
    "world"
   ]
  },
  {
   "cell_type": "code",
   "execution_count": 209,
   "metadata": {},
   "outputs": [
    {
     "data": {
      "text/plain": [
       "Index(['iso3c', 'region_id', 'country_name', 'income_id', 'gdp',\n",
       "       'composition_food_organic_waste_percent', 'composition_glass_percent',\n",
       "       'composition_metal_percent', 'composition_other_percent',\n",
       "       'composition_paper_cardboard_percent', 'composition_plastic_percent',\n",
       "       'composition_rubber_leather_percent', 'composition_wood_percent',\n",
       "       'composition_yard_garden_green_waste_percent',\n",
       "       'other_information_information_system_for_solid_waste_management',\n",
       "       'other_information_national_agency_to_enforce_solid_waste_laws_and_regulations',\n",
       "       'other_information_national_law_governing_solid_waste_management_in_the_country',\n",
       "       'other_information_ppp_rules_and_regulations',\n",
       "       'other_information_summary_of_key_solid_waste_information_made_available_to_the_public',\n",
       "       'population_population_number_of_people',\n",
       "       'special_waste_agricultural_waste_tons_year',\n",
       "       'special_waste_construction_and_demolition_waste_tons_year',\n",
       "       'special_waste_e_waste_tons_year',\n",
       "       'special_waste_hazardous_waste_tons_year',\n",
       "       'special_waste_industrial_waste_tons_year',\n",
       "       'special_waste_medical_waste_tons_year',\n",
       "       'total_msw_total_msw_generated_tons_year',\n",
       "       'waste_collection_coverage_rural_percent_of_geographic_area',\n",
       "       'waste_collection_coverage_rural_percent_of_households',\n",
       "       'waste_collection_coverage_rural_percent_of_population',\n",
       "       'waste_collection_coverage_rural_percent_of_waste',\n",
       "       'waste_collection_coverage_total_percent_of_geographic_area',\n",
       "       'waste_collection_coverage_total_percent_of_households',\n",
       "       'waste_collection_coverage_total_percent_of_population',\n",
       "       'waste_collection_coverage_total_percent_of_waste',\n",
       "       'waste_collection_coverage_urban_percent_of_geographic_area',\n",
       "       'waste_collection_coverage_urban_percent_of_households',\n",
       "       'waste_collection_coverage_urban_percent_of_population',\n",
       "       'waste_collection_coverage_urban_percent_of_waste',\n",
       "       'waste_treatment_anaerobic_digestion_percent',\n",
       "       'waste_treatment_compost_percent',\n",
       "       'waste_treatment_controlled_landfill_percent',\n",
       "       'waste_treatment_incineration_percent',\n",
       "       'waste_treatment_landfill_unspecified_percent',\n",
       "       'waste_treatment_open_dump_percent', 'waste_treatment_other_percent',\n",
       "       'waste_treatment_recycling_percent',\n",
       "       'waste_treatment_sanitary_landfill_landfill_gas_system_percent',\n",
       "       'waste_treatment_unaccounted_for_percent',\n",
       "       'waste_treatment_waterways_marine_percent',\n",
       "       'where_where_is_this_data_measured'],\n",
       "      dtype='object')"
      ]
     },
     "execution_count": 209,
     "metadata": {},
     "output_type": "execute_result"
    }
   ],
   "source": [
    "world.columns"
   ]
  },
  {
   "cell_type": "code",
   "execution_count": 203,
   "metadata": {},
   "outputs": [
    {
     "data": {
      "text/html": [
       "<div>\n",
       "<style scoped>\n",
       "    .dataframe tbody tr th:only-of-type {\n",
       "        vertical-align: middle;\n",
       "    }\n",
       "\n",
       "    .dataframe tbody tr th {\n",
       "        vertical-align: top;\n",
       "    }\n",
       "\n",
       "    .dataframe thead th {\n",
       "        text-align: right;\n",
       "    }\n",
       "</style>\n",
       "<table border=\"1\" class=\"dataframe\">\n",
       "  <thead>\n",
       "    <tr style=\"text-align: right;\">\n",
       "      <th></th>\n",
       "      <th>0</th>\n",
       "      <th>1</th>\n",
       "    </tr>\n",
       "  </thead>\n",
       "  <tbody>\n",
       "    <tr>\n",
       "      <th>0</th>\n",
       "      <td>Aruba</td>\n",
       "      <td>NaN</td>\n",
       "    </tr>\n",
       "    <tr>\n",
       "      <th>1</th>\n",
       "      <td>Afghanistan</td>\n",
       "      <td>NaN</td>\n",
       "    </tr>\n",
       "    <tr>\n",
       "      <th>2</th>\n",
       "      <td>Angola</td>\n",
       "      <td>13.500000</td>\n",
       "    </tr>\n",
       "    <tr>\n",
       "      <th>3</th>\n",
       "      <td>Albania</td>\n",
       "      <td>9.600000</td>\n",
       "    </tr>\n",
       "    <tr>\n",
       "      <th>4</th>\n",
       "      <td>Andorra</td>\n",
       "      <td>11.300000</td>\n",
       "    </tr>\n",
       "    <tr>\n",
       "      <th>...</th>\n",
       "      <td>...</td>\n",
       "      <td>...</td>\n",
       "    </tr>\n",
       "    <tr>\n",
       "      <th>212</th>\n",
       "      <td>Kosovo</td>\n",
       "      <td>11.000000</td>\n",
       "    </tr>\n",
       "    <tr>\n",
       "      <th>213</th>\n",
       "      <td>Yemen, Rep.</td>\n",
       "      <td>10.000000</td>\n",
       "    </tr>\n",
       "    <tr>\n",
       "      <th>214</th>\n",
       "      <td>South Africa</td>\n",
       "      <td>7.090104</td>\n",
       "    </tr>\n",
       "    <tr>\n",
       "      <th>215</th>\n",
       "      <td>Zambia</td>\n",
       "      <td>NaN</td>\n",
       "    </tr>\n",
       "    <tr>\n",
       "      <th>216</th>\n",
       "      <td>Zimbabwe</td>\n",
       "      <td>23.000000</td>\n",
       "    </tr>\n",
       "  </tbody>\n",
       "</table>\n",
       "<p>217 rows × 2 columns</p>\n",
       "</div>"
      ],
      "text/plain": [
       "                0          1\n",
       "0           Aruba        NaN\n",
       "1     Afghanistan        NaN\n",
       "2          Angola  13.500000\n",
       "3         Albania   9.600000\n",
       "4         Andorra  11.300000\n",
       "..            ...        ...\n",
       "212        Kosovo  11.000000\n",
       "213   Yemen, Rep.  10.000000\n",
       "214  South Africa   7.090104\n",
       "215        Zambia        NaN\n",
       "216      Zimbabwe  23.000000\n",
       "\n",
       "[217 rows x 2 columns]"
      ]
     },
     "execution_count": 203,
     "metadata": {},
     "output_type": "execute_result"
    }
   ],
   "source": [
    "part=pd.DataFrame(list(world.iloc[:,[2,10]].values))\n",
    "part"
   ]
  },
  {
   "cell_type": "code",
   "execution_count": 204,
   "metadata": {},
   "outputs": [
    {
     "data": {
      "text/html": [
       "<div>\n",
       "<style scoped>\n",
       "    .dataframe tbody tr th:only-of-type {\n",
       "        vertical-align: middle;\n",
       "    }\n",
       "\n",
       "    .dataframe tbody tr th {\n",
       "        vertical-align: top;\n",
       "    }\n",
       "\n",
       "    .dataframe thead th {\n",
       "        text-align: right;\n",
       "    }\n",
       "</style>\n",
       "<table border=\"1\" class=\"dataframe\">\n",
       "  <thead>\n",
       "    <tr style=\"text-align: right;\">\n",
       "      <th></th>\n",
       "      <th>0</th>\n",
       "      <th>1</th>\n",
       "    </tr>\n",
       "  </thead>\n",
       "  <tbody>\n",
       "    <tr>\n",
       "      <th>2</th>\n",
       "      <td>Angola</td>\n",
       "      <td>13.500000</td>\n",
       "    </tr>\n",
       "    <tr>\n",
       "      <th>3</th>\n",
       "      <td>Albania</td>\n",
       "      <td>9.600000</td>\n",
       "    </tr>\n",
       "    <tr>\n",
       "      <th>4</th>\n",
       "      <td>Andorra</td>\n",
       "      <td>11.300000</td>\n",
       "    </tr>\n",
       "    <tr>\n",
       "      <th>5</th>\n",
       "      <td>United Arab Emirates</td>\n",
       "      <td>19.000000</td>\n",
       "    </tr>\n",
       "    <tr>\n",
       "      <th>6</th>\n",
       "      <td>Argentina</td>\n",
       "      <td>14.610000</td>\n",
       "    </tr>\n",
       "    <tr>\n",
       "      <th>...</th>\n",
       "      <td>...</td>\n",
       "      <td>...</td>\n",
       "    </tr>\n",
       "    <tr>\n",
       "      <th>211</th>\n",
       "      <td>Samoa</td>\n",
       "      <td>13.000000</td>\n",
       "    </tr>\n",
       "    <tr>\n",
       "      <th>212</th>\n",
       "      <td>Kosovo</td>\n",
       "      <td>11.000000</td>\n",
       "    </tr>\n",
       "    <tr>\n",
       "      <th>213</th>\n",
       "      <td>Yemen, Rep.</td>\n",
       "      <td>10.000000</td>\n",
       "    </tr>\n",
       "    <tr>\n",
       "      <th>214</th>\n",
       "      <td>South Africa</td>\n",
       "      <td>7.090104</td>\n",
       "    </tr>\n",
       "    <tr>\n",
       "      <th>216</th>\n",
       "      <td>Zimbabwe</td>\n",
       "      <td>23.000000</td>\n",
       "    </tr>\n",
       "  </tbody>\n",
       "</table>\n",
       "<p>174 rows × 2 columns</p>\n",
       "</div>"
      ],
      "text/plain": [
       "                        0          1\n",
       "2                  Angola  13.500000\n",
       "3                 Albania   9.600000\n",
       "4                 Andorra  11.300000\n",
       "5    United Arab Emirates  19.000000\n",
       "6               Argentina  14.610000\n",
       "..                    ...        ...\n",
       "211                 Samoa  13.000000\n",
       "212                Kosovo  11.000000\n",
       "213           Yemen, Rep.  10.000000\n",
       "214          South Africa   7.090104\n",
       "216              Zimbabwe  23.000000\n",
       "\n",
       "[174 rows x 2 columns]"
      ]
     },
     "execution_count": 204,
     "metadata": {},
     "output_type": "execute_result"
    }
   ],
   "source": [
    "part.dropna()"
   ]
  },
  {
   "cell_type": "code",
   "execution_count": 206,
   "metadata": {},
   "outputs": [
    {
     "data": {
      "text/plain": [
       "1    11.687394\n",
       "dtype: float64"
      ]
     },
     "execution_count": 206,
     "metadata": {},
     "output_type": "execute_result"
    }
   ],
   "source": [
    "mean1=part.mean()\n",
    "mean1"
   ]
  },
  {
   "cell_type": "markdown",
   "metadata": {},
   "source": [
    "the average percent of plastic present in the total amount of waste considering data of 174 countries we get that about 11.68%\n",
    "of the total waste is plastic which has great potential to produce loop revenues as plastic recycling could be done more than 1 time so even if depreciating in value and ignoring environmental effects we could say that money generated by utilising the plastic waste could be a great factor on world economy . "
   ]
  },
  {
   "cell_type": "code",
   "execution_count": 199,
   "metadata": {},
   "outputs": [
    {
     "data": {
      "image/png": "[encoded data removed]",
      "text/plain": [
       "<IPython.core.display.Image object>"
      ]
     },
     "execution_count": 199,
     "metadata": {},
     "output_type": "execute_result"
    }
   ],
   "source": [
    "file2=pd.read_csv(\"C:\\\\Users\\\\swast\\\\Desktop\\\\tcs sustainathon\\\\plastic_waste world data.csv\")\n",
    "from IPython import display\n",
    "display.Image(\"C:\\\\Users\\\\swast\\\\Desktop\\\\tcs sustainathon\\\\Plastic_Production_Geyer_et_al_K_Law_Presentation.png\")"
   ]
  },
  {
   "cell_type": "code",
   "execution_count": 174,
   "metadata": {},
   "outputs": [
    {
     "data": {
      "text/html": [
       "<div>\n",
       "<style scoped>\n",
       "    .dataframe tbody tr th:only-of-type {\n",
       "        vertical-align: middle;\n",
       "    }\n",
       "\n",
       "    .dataframe tbody tr th {\n",
       "        vertical-align: top;\n",
       "    }\n",
       "\n",
       "    .dataframe thead th {\n",
       "        text-align: right;\n",
       "    }\n",
       "</style>\n",
       "<table border=\"1\" class=\"dataframe\">\n",
       "  <thead>\n",
       "    <tr style=\"text-align: right;\">\n",
       "      <th></th>\n",
       "      <th>Year</th>\n",
       "      <th>MMT(plastic waste)</th>\n",
       "    </tr>\n",
       "  </thead>\n",
       "  <tbody>\n",
       "    <tr>\n",
       "      <th>0</th>\n",
       "      <td>1950.0</td>\n",
       "      <td>0.0</td>\n",
       "    </tr>\n",
       "    <tr>\n",
       "      <th>1</th>\n",
       "      <td>1960.0</td>\n",
       "      <td>10.0</td>\n",
       "    </tr>\n",
       "    <tr>\n",
       "      <th>2</th>\n",
       "      <td>1970.0</td>\n",
       "      <td>25.0</td>\n",
       "    </tr>\n",
       "    <tr>\n",
       "      <th>3</th>\n",
       "      <td>1980.0</td>\n",
       "      <td>50.0</td>\n",
       "    </tr>\n",
       "    <tr>\n",
       "      <th>4</th>\n",
       "      <td>1990.0</td>\n",
       "      <td>90.0</td>\n",
       "    </tr>\n",
       "    <tr>\n",
       "      <th>5</th>\n",
       "      <td>2000.0</td>\n",
       "      <td>160.0</td>\n",
       "    </tr>\n",
       "    <tr>\n",
       "      <th>6</th>\n",
       "      <td>2010.0</td>\n",
       "      <td>275.0</td>\n",
       "    </tr>\n",
       "  </tbody>\n",
       "</table>\n",
       "</div>"
      ],
      "text/plain": [
       "     Year  MMT(plastic waste)\n",
       "0  1950.0                 0.0\n",
       "1  1960.0                10.0\n",
       "2  1970.0                25.0\n",
       "3  1980.0                50.0\n",
       "4  1990.0                90.0\n",
       "5  2000.0               160.0\n",
       "6  2010.0               275.0"
      ]
     },
     "execution_count": 174,
     "metadata": {},
     "output_type": "execute_result"
    }
   ],
   "source": [
    "file2"
   ]
  },
  {
   "cell_type": "code",
   "execution_count": 175,
   "metadata": {},
   "outputs": [],
   "source": [
    "Lin=LinearRegression()\n",
    "Rig=Ridge()\n",
    "eln=ElasticNet()"
   ]
  },
  {
   "cell_type": "code",
   "execution_count": 176,
   "metadata": {},
   "outputs": [
    {
     "data": {
      "text/plain": [
       "[1950.0, 1960.0, 1970.0, 1980.0, 1990.0, 2000.0, 2010.0]"
      ]
     },
     "execution_count": 176,
     "metadata": {},
     "output_type": "execute_result"
    }
   ],
   "source": [
    "x=file2.iloc[:,0].values\n",
    "x\n",
    "xl=list(x)\n",
    "xl"
   ]
  },
  {
   "cell_type": "code",
   "execution_count": 177,
   "metadata": {},
   "outputs": [
    {
     "data": {
      "text/plain": [
       "[0.0, 10.0, 25.0, 50.0, 90.0, 160.0, 275.0]"
      ]
     },
     "execution_count": 177,
     "metadata": {},
     "output_type": "execute_result"
    }
   ],
   "source": [
    "y=file2.iloc[:,1].values\n",
    "yl=list(y)\n",
    "yl"
   ]
  },
  {
   "cell_type": "code",
   "execution_count": 178,
   "metadata": {},
   "outputs": [
    {
     "data": {
      "text/plain": [
       "Text(0, 0.5, 'million metric tonnes of plastic waste')"
      ]
     },
     "execution_count": 178,
     "metadata": {},
     "output_type": "execute_result"
    },
    {
     "data": {
      "image/png": "[encoded data removed]",
      "text/plain": [
       "<Figure size 432x288 with 1 Axes>"
      ]
     },
     "metadata": {
      "needs_background": "light"
     },
     "output_type": "display_data"
    }
   ],
   "source": [
    "plt.bar(list(x),list(y),color='black',width=4)\n",
    "plt.xlabel('Year')\n",
    "plt.ylabel('million metric tonnes of plastic waste')"
   ]
  },
  {
   "cell_type": "code",
   "execution_count": 179,
   "metadata": {},
   "outputs": [
    {
     "name": "stdout",
     "output_type": "stream",
     "text": [
      "linear regression result :  [[384.64285714]]\n",
      "using elastic net result :  [384.18405564]\n",
      "with the help of Ridge type regression :  [[384.53664508]]\n"
     ]
    }
   ],
   "source": [
    "Lin.fit(x.reshape(-1,1),y.reshape(-1,1))\n",
    "Rig.fit(x.reshape(-1,1),y.reshape(-1,1))\n",
    "eln.fit(x.reshape(-1,1),y.reshape(-1,1))\n",
    "print('linear regression result : ' , Lin.predict([[2050]]))\n",
    "print('using elastic net result : ' ,eln.predict([[2050]]))\n",
    "print('with the help of Ridge type regression : ' , Rig.predict([[2050]]))"
   ]
  },
  {
   "cell_type": "markdown",
   "metadata": {},
   "source": [
    "these result are of a best fit line but since the graph  seems exponential we need to take the help of a polyfit function inorder to calculate a much more accurate value compared to the linear regression technique."
   ]
  },
  {
   "cell_type": "code",
   "execution_count": 180,
   "metadata": {},
   "outputs": [
    {
     "data": {
      "text/plain": [
       "Text(0, 0.5, 'million metric tonnes of plastic waste')"
      ]
     },
     "execution_count": 180,
     "metadata": {},
     "output_type": "execute_result"
    },
    {
     "data": {
      "image/png": "[encoded data removed]",
      "text/plain": [
       "<Figure size 432x288 with 1 Axes>"
      ]
     },
     "metadata": {
      "needs_background": "light"
     },
     "output_type": "display_data"
    }
   ],
   "source": [
    "plt.plot(x,y,marker='o',color='black',mfc='red')\n",
    "plt.xlabel('Year')\n",
    "plt.ylabel('million metric tonnes of plastic waste')"
   ]
  },
  {
   "cell_type": "code",
   "execution_count": 181,
   "metadata": {},
   "outputs": [],
   "source": [
    "model=np.polyfit(x,y,3) # cubic functions seems right enough for the graph"
   ]
  },
  {
   "cell_type": "code",
   "execution_count": 182,
   "metadata": {},
   "outputs": [],
   "source": [
    "predict=np.poly1d(model)"
   ]
  },
  {
   "cell_type": "code",
   "execution_count": 183,
   "metadata": {},
   "outputs": [
    {
     "data": {
      "text/plain": [
       "[2020, 2030, 2040, 2050]"
      ]
     },
     "execution_count": 183,
     "metadata": {},
     "output_type": "execute_result"
    }
   ],
   "source": [
    "list1=list(range(2020,2055,10))\n",
    "list1"
   ]
  },
  {
   "cell_type": "code",
   "execution_count": 184,
   "metadata": {},
   "outputs": [
    {
     "data": {
      "text/plain": [
       "[1950.0,\n",
       " 1960.0,\n",
       " 1970.0,\n",
       " 1980.0,\n",
       " 1990.0,\n",
       " 2000.0,\n",
       " 2010.0,\n",
       " 2020,\n",
       " 2030,\n",
       " 2040,\n",
       " 2050]"
      ]
     },
     "execution_count": 184,
     "metadata": {},
     "output_type": "execute_result"
    }
   ],
   "source": [
    "list2=[]\n",
    "for i in list1:\n",
    "    list2.append(predict(i))\n",
    "for i in list1 :\n",
    "    xl.append(i)\n",
    "for i in list2 :\n",
    "    yl.append(i)\n",
    "xl"
   ]
  },
  {
   "cell_type": "code",
   "execution_count": 185,
   "metadata": {},
   "outputs": [
    {
     "data": {
      "text/plain": [
       "Text(0, 0.5, 'million metric tonnes of plastic waste')"
      ]
     },
     "execution_count": 185,
     "metadata": {},
     "output_type": "execute_result"
    },
    {
     "data": {
      "image/png": "[encoded data removed]",
      "text/plain": [
       "<Figure size 432x288 with 1 Axes>"
      ]
     },
     "metadata": {
      "needs_background": "light"
     },
     "output_type": "display_data"
    }
   ],
   "source": [
    "plt.plot(xl,yl,marker='o',mfc='red',color='black')\n",
    "plt.xlabel('Year')\n",
    "plt.ylabel('million metric tonnes of plastic waste')"
   ]
  },
  {
   "cell_type": "code",
   "execution_count": 193,
   "metadata": {},
   "outputs": [
    {
     "data": {
      "text/plain": [
       "array([[1319.2857144]])"
      ]
     },
     "execution_count": 193,
     "metadata": {},
     "output_type": "execute_result"
    }
   ],
   "source": [
    "predict([[2050]])"
   ]
  },
  {
   "cell_type": "code",
   "execution_count": 187,
   "metadata": {},
   "outputs": [
    {
     "data": {
      "text/plain": [
       "<BarContainer object of 11 artists>"
      ]
     },
     "execution_count": 187,
     "metadata": {},
     "output_type": "execute_result"
    },
    {
     "data": {
      "image/png": "[encoded data removed]",
      "text/plain": [
       "<Figure size 432x288 with 1 Axes>"
      ]
     },
     "metadata": {
      "needs_background": "light"
     },
     "output_type": "display_data"
    }
   ],
   "source": [
    "colours=['green','green','green','green','green','yellow','yellow','orange','orange','red','red','red']\n",
    "plt.bar(xl,yl,align='center',width=5,color=['green','green','green','green','green','yellow','yellow','orange','orange','red','red','red'])"
   ]
  },
  {
   "cell_type": "markdown",
   "metadata": {},
   "source": [
    "following the predicted projection we could conclude an exponential increase in the plastic waste in the upcoming decades if any laws against their use arent strictly followed or mandated.\n",
    "but their seems to be another economical advantage conjoined to the fact that plastic waste is mostly recyclable .\n",
    "\n",
    "lets consider \n"
   ]
  },
  {
   "cell_type": "code",
   "execution_count": 190,
   "metadata": {},
   "outputs": [
    {
     "data": {
      "image/png": "[encoded data removed]",
      "text/plain": [
       "<IPython.core.display.Image object>"
      ]
     },
     "execution_count": 190,
     "metadata": {},
     "output_type": "execute_result"
    }
   ],
   "source": [
    "from IPython import display\n",
    "display.Image(\"C:\\\\Users\\\\swast\\\\Desktop\\\\tcs sustainathon\\\\Typical-composition-of-plastic-waste-within-MSW-12.png\")"
   ]
  },
  {
   "cell_type": "markdown",
   "metadata": {},
   "source": [
    "above are the percentages of plastics in use and the quantity of them constituting the waste part.\n",
    "and there respective cost in Rupees per kg are : \n",
    "    \n",
    "[20 , 50, 40 , 100 , 100 , 3 , 50]\n"
   ]
  },
  {
   "cell_type": "code",
   "execution_count": 192,
   "metadata": {},
   "outputs": [
    {
     "data": {
      "text/plain": [
       "44.5"
      ]
     },
     "execution_count": 192,
     "metadata": {},
     "output_type": "execute_result"
    }
   ],
   "source": [
    "dfc=20*0.23 + 50*0.19+40*0.14+100*0.06+100*0.09+3*0.10+50*0.19\n",
    "dfc # average cost per kg"
   ]
  },
  {
   "cell_type": "markdown",
   "metadata": {},
   "source": [
    "##### dfc is the average cost of a kg of plastic in india hence to calculate total money generated by plastic waste in 2040 we have to have the predicted amount of plastic generated in 2040 and multiply it with the cost of per kg of plastic waste"
   ]
  },
  {
   "cell_type": "code",
   "execution_count": 195,
   "metadata": {},
   "outputs": [],
   "source": [
    "value_2040_wasteInKG=predict([[2040]])*1000000000 # converting Million metric tonnes to kg\n",
    "per_kg_cost=dfc"
   ]
  },
  {
   "cell_type": "code",
   "execution_count": 210,
   "metadata": {},
   "outputs": [
    {
     "name": "stdout",
     "output_type": "stream",
     "text": [
      "total amount generated by recycling and selling plastic according to raw indian market price in Rupees currently in 2021 :  [[4.22008333e+13]]\n"
     ]
    }
   ],
   "source": [
    "Total_revenue_by_plastic_recycling=value_2040_wasteInKG*per_kg_cost\n",
    "print(\"total amount generated by recycling and selling plastic according to raw indian market price in Rupees currently in 2021 : \",Total_revenue_by_plastic_recycling)"
   ]
  },
  {
   "cell_type": "markdown",
   "metadata": {},
   "source": [
    "### 422,008,333,00,000 Rs of amount is generated by selling all possible recyclable plastic waste about 572,629,015,164.36 dollars as of 08-09-2021 [ the predicted value is for waste in 2040]. the value is equialent to 10 times the current total GDP of Germany"
   ]
  },
  {
   "cell_type": "markdown",
   "metadata": {},
   "source": [
    "#### on the other hand only a fraction of it is being recycled for example in india only 9% of total plastic waste was recycled 1 time.\n",
    "\n",
    "Approximately 6.3 billion tonnes of this has been discarded as waste, of which around 79% has accumulated in landfills or the natural environment, 12% was incinerated, and 9% has been recycled, although only ~1% of all plastic has ever been recycled more than once. - https://en.wikipedia.org/wiki/Plastic_recycling"
   ]
  },
  {
   "cell_type": "markdown",
   "metadata": {},
   "source": [
    "the potential in plastic recycling business is pretty much evident by the predicted amount of money one could generate by recycling it."
   ]
  },
  {
   "cell_type": "markdown",
   "metadata": {},
   "source": [
    "### in  fact larger business firms have started investing platic reuse programmes : \n",
    "   #### Managers of American Airlines and Coca-Cola have made buying recycled products part of their overall business strategies.\n",
    "    ----https://hbr.org/1993/11/recycling-for-profit-the-new-green-business-frontier"
   ]
  },
  {
   "cell_type": "code",
   "execution_count": null,
   "metadata": {},
   "outputs": [],
   "source": []
  }
 ],
 "metadata": {
  "kernelspec": {
   "display_name": "Python 3",
   "language": "python",
   "name": "python3"
  },
  "language_info": {
   "codemirror_mode": {
    "name": "ipython",
    "version": 3
   },
   "file_extension": ".py",
   "mimetype": "text/x-python",
   "name": "python",
   "nbconvert_exporter": "python",
   "pygments_lexer": "ipython3",
   "version": "3.8.5"
  }
 },
 "nbformat": 4,
 "nbformat_minor": 4
}
